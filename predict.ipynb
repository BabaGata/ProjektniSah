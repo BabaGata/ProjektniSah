{
 "cells": [
  {
   "cell_type": "code",
   "execution_count": 1,
   "metadata": {},
   "outputs": [],
   "source": [
    "import mlflow\n",
    "import mlflow.pytorch\n",
    "import torch\n",
    "from torch.utils.data import DataLoader\n",
    "from dataset_classes.chess_dataset import ChessDataset\n",
    "from torch.nn.utils.rnn import pad_sequence\n",
    "import pandas as pd\n",
    "from preprocessing.preprocess_my_lichess import PreprocessMyLichess\n",
    "from constants import *\n",
    "import os"
   ]
  },
  {
   "cell_type": "code",
   "execution_count": 2,
   "metadata": {},
   "outputs": [],
   "source": [
    "pgn_filename = \"lichess_BabaGata_2025-02-02.pgn\"\n",
    "pkl_file_path = os.path.join(MY_DIR, \"preprocessed\", pgn_filename.replace(\"pgn\", \"pkl\"))\n",
    "if not os.path.exists(pkl_file_path):\n",
    "    processor = PreprocessMyLichess(pgn_filename, username='BabaGata')\n",
    "    processor.process_data()\n",
    "\n",
    "df = pd.read_pickle(pkl_file_path)"
   ]
  },
  {
   "cell_type": "code",
   "execution_count": 3,
   "metadata": {},
   "outputs": [
    {
     "data": {
      "text/html": [
       "<div>\n",
       "<style scoped>\n",
       "    .dataframe tbody tr th:only-of-type {\n",
       "        vertical-align: middle;\n",
       "    }\n",
       "\n",
       "    .dataframe tbody tr th {\n",
       "        vertical-align: top;\n",
       "    }\n",
       "\n",
       "    .dataframe thead th {\n",
       "        text-align: right;\n",
       "    }\n",
       "</style>\n",
       "<table border=\"1\" class=\"dataframe\">\n",
       "  <thead>\n",
       "    <tr style=\"text-align: right;\">\n",
       "      <th></th>\n",
       "      <th>matrices</th>\n",
       "      <th>encoded_eco</th>\n",
       "      <th>opening_ply</th>\n",
       "      <th>result</th>\n",
       "      <th>player_color</th>\n",
       "    </tr>\n",
       "  </thead>\n",
       "  <tbody>\n",
       "    <tr>\n",
       "      <th>0</th>\n",
       "      <td>[[[-4, -2, -3, -5, -6, -3, -2, -4], [-1, -1, -...</td>\n",
       "      <td>246</td>\n",
       "      <td>10</td>\n",
       "      <td>1-0</td>\n",
       "      <td>black</td>\n",
       "    </tr>\n",
       "    <tr>\n",
       "      <th>1</th>\n",
       "      <td>[[[-4, -2, -3, -5, -6, -3, -2, -4], [-1, -1, -...</td>\n",
       "      <td>241</td>\n",
       "      <td>10</td>\n",
       "      <td>1-0</td>\n",
       "      <td>white</td>\n",
       "    </tr>\n",
       "    <tr>\n",
       "      <th>2</th>\n",
       "      <td>[[[-4, -2, -3, -5, -6, -3, -2, -4], [-1, -1, -...</td>\n",
       "      <td>301</td>\n",
       "      <td>10</td>\n",
       "      <td>1-0</td>\n",
       "      <td>black</td>\n",
       "    </tr>\n",
       "    <tr>\n",
       "      <th>3</th>\n",
       "      <td>[[[-4, -2, -3, -5, -6, -3, -2, -4], [-1, -1, -...</td>\n",
       "      <td>100</td>\n",
       "      <td>10</td>\n",
       "      <td>0-1</td>\n",
       "      <td>black</td>\n",
       "    </tr>\n",
       "    <tr>\n",
       "      <th>4</th>\n",
       "      <td>[[[-4, -2, -3, -5, -6, -3, -2, -4], [-1, -1, -...</td>\n",
       "      <td>250</td>\n",
       "      <td>10</td>\n",
       "      <td>1-0</td>\n",
       "      <td>white</td>\n",
       "    </tr>\n",
       "  </tbody>\n",
       "</table>\n",
       "</div>"
      ],
      "text/plain": [
       "                                            matrices  encoded_eco  \\\n",
       "0  [[[-4, -2, -3, -5, -6, -3, -2, -4], [-1, -1, -...          246   \n",
       "1  [[[-4, -2, -3, -5, -6, -3, -2, -4], [-1, -1, -...          241   \n",
       "2  [[[-4, -2, -3, -5, -6, -3, -2, -4], [-1, -1, -...          301   \n",
       "3  [[[-4, -2, -3, -5, -6, -3, -2, -4], [-1, -1, -...          100   \n",
       "4  [[[-4, -2, -3, -5, -6, -3, -2, -4], [-1, -1, -...          250   \n",
       "\n",
       "   opening_ply result player_color  \n",
       "0           10    1-0        black  \n",
       "1           10    1-0        white  \n",
       "2           10    1-0        black  \n",
       "3           10    0-1        black  \n",
       "4           10    1-0        white  "
      ]
     },
     "execution_count": 3,
     "metadata": {},
     "output_type": "execute_result"
    }
   ],
   "source": [
    "df.head()"
   ]
  },
  {
   "cell_type": "code",
   "execution_count": 4,
   "metadata": {},
   "outputs": [
    {
     "name": "stdout",
     "output_type": "stream",
     "text": [
      "Using device: cuda\n"
     ]
    },
    {
     "data": {
      "text/plain": [
       "ChessOpeningClassifier(\n",
       "  (conv1): Conv2d(1, 32, kernel_size=(3, 3), stride=(1, 1), padding=(1, 1))\n",
       "  (conv2): Conv2d(32, 64, kernel_size=(3, 3), stride=(1, 1), padding=(1, 1))\n",
       "  (conv3): Conv2d(64, 128, kernel_size=(3, 3), stride=(1, 1), padding=(1, 1))\n",
       "  (relu): ReLU()\n",
       "  (pool): MaxPool2d(kernel_size=2, stride=2, padding=0, dilation=1, ceil_mode=False)\n",
       "  (rnn): LSTM(128, 128, batch_first=True)\n",
       "  (fc1): Linear(in_features=128, out_features=128, bias=True)\n",
       "  (fc2): Linear(in_features=128, out_features=500, bias=True)\n",
       ")"
      ]
     },
     "execution_count": 4,
     "metadata": {},
     "output_type": "execute_result"
    }
   ],
   "source": [
    "# Set device\n",
    "device = torch.device(\"cuda\" if torch.cuda.is_available() else \"cpu\")\n",
    "print(f\"Using device: {device}\")\n",
    "\n",
    "# Set the experiment name for MLflow\n",
    "mlflow.set_experiment(\"Chess Opening Classification\")\n",
    "\n",
    "# Load the best model from the MLflow run\n",
    "# Replace the experiment ID and run ID with your values mlruns\\819841942341856253\\de7114d7a07c4c529cd2dfabd4fc07ca\n",
    "experiment_id = \"819841942341856253\"\n",
    "run_id = \"de7114d7a07c4c529cd2dfabd4fc07ca\"\n",
    "\n",
    "# Fetch the model from MLflow\n",
    "logged_model = f\"runs:/{run_id}/final_model\"\n",
    "model = mlflow.pytorch.load_model(logged_model)\n",
    "model.to(device)\n",
    "model.eval()"
   ]
  },
  {
   "cell_type": "code",
   "execution_count": 5,
   "metadata": {},
   "outputs": [],
   "source": [
    "def collate_fn(batch):\n",
    "    inputs, labels = zip(*batch)\n",
    "    inputs = [inp for inp in inputs]\n",
    "    padded_inputs = pad_sequence(inputs, batch_first=True, padding_value=0.0)\n",
    "    labels = torch.tensor(labels, dtype=torch.long)\n",
    "    return padded_inputs, labels"
   ]
  },
  {
   "cell_type": "code",
   "execution_count": 6,
   "metadata": {},
   "outputs": [],
   "source": [
    "# Load a dataset for prediction (use the same method as during training)\n",
    "prediction_dataset = ChessDataset(df, max_moves=40)\n",
    "prediction_loader = DataLoader(prediction_dataset, batch_size=32, collate_fn=collate_fn, shuffle=False)"
   ]
  },
  {
   "cell_type": "code",
   "execution_count": 7,
   "metadata": {},
   "outputs": [],
   "source": [
    "# Make predictions on the dataset\n",
    "predictions = []\n",
    "true_labels = []\n",
    "\n",
    "with torch.no_grad():\n",
    "    for inputs, labels in prediction_loader:\n",
    "        inputs, labels = inputs.to(device), labels.to(device)\n",
    "        \n",
    "        outputs = model(inputs)\n",
    "        predicted_labels = torch.argmax(outputs, dim=1)\n",
    "        \n",
    "        predictions.extend(predicted_labels.cpu().numpy())\n",
    "        true_labels.extend(labels.cpu().numpy())"
   ]
  },
  {
   "cell_type": "code",
   "execution_count": 8,
   "metadata": {},
   "outputs": [
    {
     "name": "stdout",
     "output_type": "stream",
     "text": [
      "Predictions saved to: data/my_data/predictions\\lichess_BabaGata_2025-02-02_1900.pkl\n"
     ]
    }
   ],
   "source": [
    "# Add predictions to DataFrame\n",
    "df[\"predicted_eco\"] = predictions\n",
    "\n",
    "# Save the updated DataFrame\n",
    "predictions_path = os.path.join(MY_DIR, \"predictions\", pgn_filename.replace(\".pgn\", \"_1900.pkl\"))\n",
    "df.to_pickle(predictions_path)\n",
    "\n",
    "print(f\"Predictions saved to: {predictions_path}\")"
   ]
  },
  {
   "cell_type": "code",
   "execution_count": 9,
   "metadata": {},
   "outputs": [
    {
     "data": {
      "text/html": [
       "<div>\n",
       "<style scoped>\n",
       "    .dataframe tbody tr th:only-of-type {\n",
       "        vertical-align: middle;\n",
       "    }\n",
       "\n",
       "    .dataframe tbody tr th {\n",
       "        vertical-align: top;\n",
       "    }\n",
       "\n",
       "    .dataframe thead th {\n",
       "        text-align: right;\n",
       "    }\n",
       "</style>\n",
       "<table border=\"1\" class=\"dataframe\">\n",
       "  <thead>\n",
       "    <tr style=\"text-align: right;\">\n",
       "      <th></th>\n",
       "      <th>matrices</th>\n",
       "      <th>encoded_eco</th>\n",
       "      <th>opening_ply</th>\n",
       "      <th>result</th>\n",
       "      <th>player_color</th>\n",
       "      <th>predicted_eco</th>\n",
       "    </tr>\n",
       "  </thead>\n",
       "  <tbody>\n",
       "    <tr>\n",
       "      <th>0</th>\n",
       "      <td>[[[-4, -2, -3, -5, -6, -3, -2, -4], [-1, -1, -...</td>\n",
       "      <td>246</td>\n",
       "      <td>10</td>\n",
       "      <td>1-0</td>\n",
       "      <td>black</td>\n",
       "      <td>244</td>\n",
       "    </tr>\n",
       "    <tr>\n",
       "      <th>1</th>\n",
       "      <td>[[[-4, -2, -3, -5, -6, -3, -2, -4], [-1, -1, -...</td>\n",
       "      <td>241</td>\n",
       "      <td>10</td>\n",
       "      <td>1-0</td>\n",
       "      <td>white</td>\n",
       "      <td>249</td>\n",
       "    </tr>\n",
       "    <tr>\n",
       "      <th>2</th>\n",
       "      <td>[[[-4, -2, -3, -5, -6, -3, -2, -4], [-1, -1, -...</td>\n",
       "      <td>301</td>\n",
       "      <td>10</td>\n",
       "      <td>1-0</td>\n",
       "      <td>black</td>\n",
       "      <td>301</td>\n",
       "    </tr>\n",
       "    <tr>\n",
       "      <th>3</th>\n",
       "      <td>[[[-4, -2, -3, -5, -6, -3, -2, -4], [-1, -1, -...</td>\n",
       "      <td>100</td>\n",
       "      <td>10</td>\n",
       "      <td>0-1</td>\n",
       "      <td>black</td>\n",
       "      <td>299</td>\n",
       "    </tr>\n",
       "    <tr>\n",
       "      <th>4</th>\n",
       "      <td>[[[-4, -2, -3, -5, -6, -3, -2, -4], [-1, -1, -...</td>\n",
       "      <td>250</td>\n",
       "      <td>10</td>\n",
       "      <td>1-0</td>\n",
       "      <td>white</td>\n",
       "      <td>240</td>\n",
       "    </tr>\n",
       "  </tbody>\n",
       "</table>\n",
       "</div>"
      ],
      "text/plain": [
       "                                            matrices  encoded_eco  \\\n",
       "0  [[[-4, -2, -3, -5, -6, -3, -2, -4], [-1, -1, -...          246   \n",
       "1  [[[-4, -2, -3, -5, -6, -3, -2, -4], [-1, -1, -...          241   \n",
       "2  [[[-4, -2, -3, -5, -6, -3, -2, -4], [-1, -1, -...          301   \n",
       "3  [[[-4, -2, -3, -5, -6, -3, -2, -4], [-1, -1, -...          100   \n",
       "4  [[[-4, -2, -3, -5, -6, -3, -2, -4], [-1, -1, -...          250   \n",
       "\n",
       "   opening_ply result player_color  predicted_eco  \n",
       "0           10    1-0        black            244  \n",
       "1           10    1-0        white            249  \n",
       "2           10    1-0        black            301  \n",
       "3           10    0-1        black            299  \n",
       "4           10    1-0        white            240  "
      ]
     },
     "execution_count": 9,
     "metadata": {},
     "output_type": "execute_result"
    }
   ],
   "source": [
    "df.head()"
   ]
  },
  {
   "cell_type": "code",
   "execution_count": null,
   "metadata": {},
   "outputs": [],
   "source": []
  }
 ],
 "metadata": {
  "kernelspec": {
   "display_name": "Python 3",
   "language": "python",
   "name": "python3"
  },
  "language_info": {
   "codemirror_mode": {
    "name": "ipython",
    "version": 3
   },
   "file_extension": ".py",
   "mimetype": "text/x-python",
   "name": "python",
   "nbconvert_exporter": "python",
   "pygments_lexer": "ipython3",
   "version": "3.12.7"
  }
 },
 "nbformat": 4,
 "nbformat_minor": 2
}
