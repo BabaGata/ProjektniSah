{
 "cells": [
  {
   "cell_type": "code",
   "execution_count": 1,
   "metadata": {},
   "outputs": [],
   "source": [
    "# %pip install pandas python-chess torch\n",
    "import pandas as pd\n",
    "import chess\n",
    "import chess.pgn\n",
    "import numpy as np\n",
    "import io\n",
    "import json\n",
    "import os\n",
    "from constants import *"
   ]
  },
  {
   "cell_type": "code",
   "execution_count": 2,
   "metadata": {},
   "outputs": [],
   "source": [
    "def format_moves(moves_str):\n",
    "    \"\"\"Format move sequence correctly for PGN by adding move numbers.\"\"\"\n",
    "    moves = moves_str.split()\n",
    "    formatted_moves = []\n",
    "    \n",
    "    for i in range(0, len(moves), 2):\n",
    "        move_number = (i // 2) + 1\n",
    "        move_pair = f\"{move_number}. {moves[i]}\"\n",
    "        if i + 1 < len(moves):\n",
    "            move_pair += f\" {moves[i + 1]}\"\n",
    "        formatted_moves.append(move_pair)\n",
    "    \n",
    "    return \" \".join(formatted_moves)\n",
    "\n",
    "def convert_to_pgn(row):\n",
    "    \"\"\"Convert a CSV row into a properly formatted PGN string.\"\"\"\n",
    "    result = \"1-0\" if row[\"winner\"] == \"white\" else \"0-1\" if row[\"winner\"] == \"black\" else \"*\"\n",
    "    \n",
    "    pgn = f\"\"\"[Event \"?\"]\n",
    "[Site \"Lichess.org\"]\n",
    "[Date \"?\"]\n",
    "[Round \"?\"]\n",
    "[White \"{row['white_id']}\"]\n",
    "[Black \"{row['black_id']}\"]\n",
    "[WhiteElo \"{row['white_rating']}\"]\n",
    "[BlackElo \"{row['black_rating']}\"]\n",
    "[Result \"{result}\"]\n",
    "[Opening \"{row['opening_name']}\"]\n",
    "[ECO \"{row['opening_eco']}\"]\n",
    "\n",
    "{format_moves(row['moves'])} {result}\n",
    "\"\"\"\n",
    "    return pgn\n",
    "\n",
    "def board_to_matrix(board):\n",
    "    \"\"\"Convert a chess.Board into an 8x8 numpy matrix.\"\"\"\n",
    "    board_matrix = np.zeros((8, 8), dtype=int)\n",
    "    for square in chess.SQUARES:\n",
    "        piece = board.piece_at(square)\n",
    "        if piece is not None:\n",
    "            row = 7 - chess.square_rank(square)  # Flip row to match board visualization\n",
    "            col = chess.square_file(square)\n",
    "            value = PIECE_TO_INT[piece.piece_type]\n",
    "            board_matrix[row, col] = value if piece.color == chess.WHITE else -value\n",
    "    return board_matrix\n",
    "\n",
    "def get_game_matrices(pgn_string):\n",
    "    \"\"\"Convert a PGN game into a list of board matrices for each move.\"\"\"\n",
    "    pgn = io.StringIO(pgn_string)\n",
    "    game = chess.pgn.read_game(pgn)\n",
    "    board = game.board()\n",
    "    matrices = []\n",
    "    \n",
    "    for move in game.mainline_moves():\n",
    "        board.push(move)\n",
    "        matrices.append(board_to_matrix(board))\n",
    "    \n",
    "    return matrices"
   ]
  },
  {
   "cell_type": "code",
   "execution_count": 5,
   "metadata": {},
   "outputs": [
    {
     "name": "stdout",
     "output_type": "stream",
     "text": [
      "Preprocessed data saved successfully!\n"
     ]
    }
   ],
   "source": [
    "os.makedirs(PREPROCESSED_DIR, exist_ok=True)\n",
    "\n",
    "# Load raw CSV\n",
    "df = pd.read_csv(os.path.join(RAW_DIR, \"lichess_games.csv\"))\n",
    "\n",
    "# Create new dataframe\n",
    "data = []\n",
    "for _, row in df.iterrows():\n",
    "    pgn = convert_to_pgn(row)\n",
    "    matrices = get_game_matrices(pgn)\n",
    "    data.append({\n",
    "        \"pgn\": pgn,\n",
    "        \"matrices\": json.dumps([matrix.tolist() for matrix in matrices]),  # Convert NumPy arrays to lists\n",
    "        \"opening_eco\": row[\"opening_eco\"],\n",
    "        \"opening_ply\": row[\"opening_ply\"]\n",
    "    })\n",
    "\n",
    "# Convert to DataFrame\n",
    "processed_df = pd.DataFrame(data)\n",
    "\n",
    "# Save processed data\n",
    "processed_df.to_csv(os.path.join(PREPROCESSED_DIR, \"lichess_games.csv\"), index=False)\n",
    "\n",
    "print(\"Preprocessed data saved successfully!\")"
   ]
  },
  {
   "cell_type": "code",
   "execution_count": null,
   "metadata": {},
   "outputs": [],
   "source": []
  }
 ],
 "metadata": {
  "kernelspec": {
   "display_name": "Python 3",
   "language": "python",
   "name": "python3"
  },
  "language_info": {
   "codemirror_mode": {
    "name": "ipython",
    "version": 3
   },
   "file_extension": ".py",
   "mimetype": "text/x-python",
   "name": "python",
   "nbconvert_exporter": "python",
   "pygments_lexer": "ipython3",
   "version": "3.12.7"
  }
 },
 "nbformat": 4,
 "nbformat_minor": 2
}
