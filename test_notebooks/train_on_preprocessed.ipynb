{
 "cells": [
  {
   "cell_type": "code",
   "execution_count": 16,
   "metadata": {},
   "outputs": [],
   "source": [
    "import pandas as pd\n",
    "import pickle\n",
    "import sys\n",
    "import os\n",
    "\n",
    "# Get the notebook's directory and add its parent directory to sys.path\n",
    "notebook_dir = os.getcwd()\n",
    "parent_dir = os.path.abspath(os.path.join(notebook_dir, \"..\"))\n",
    "sys.path.append(parent_dir)\n",
    "from constants import *"
   ]
  },
  {
   "cell_type": "code",
   "execution_count": 17,
   "metadata": {},
   "outputs": [],
   "source": [
    "eco_mapping_df = pd.read_csv(\"../data/ECO_codes_mapping.csv\")\n",
    "eco_mapping = {eco: idx for idx, eco in enumerate(eco_mapping_df[\"eco\"].unique())}"
   ]
  },
  {
   "cell_type": "code",
   "execution_count": 18,
   "metadata": {},
   "outputs": [
    {
     "data": {
      "text/plain": [
       "496"
      ]
     },
     "execution_count": 18,
     "metadata": {},
     "output_type": "execute_result"
    }
   ],
   "source": [
    "len(eco_mapping.keys())"
   ]
  },
  {
   "cell_type": "code",
   "execution_count": 20,
   "metadata": {},
   "outputs": [],
   "source": [
    "def load_preprocessed_data(filename):\n",
    "    with open(filename, 'rb') as f:\n",
    "        df = pickle.load(f)\n",
    "    return df\n",
    "df = load_preprocessed_data(os.path.join('../', PREPROCESSED_DIR, \"lichess_games_20K.pkl\"))"
   ]
  },
  {
   "cell_type": "code",
   "execution_count": 21,
   "metadata": {},
   "outputs": [
    {
     "data": {
      "text/plain": [
       "<bound method NDFrame.describe of                                                 matrices opening_eco  \\\n",
       "0      [[[-4, -2, -3, -5, -6, -3, -2, -4], [-1, -1, -...         D10   \n",
       "1      [[[-4, -2, -3, -5, -6, -3, -2, -4], [-1, -1, -...         B00   \n",
       "2      [[[-4, -2, -3, -5, -6, -3, -2, -4], [-1, -1, -...         C20   \n",
       "3      [[[-4, -2, -3, -5, -6, -3, -2, -4], [-1, -1, -...         D02   \n",
       "4      [[[-4, -2, -3, -5, -6, -3, -2, -4], [-1, -1, -...         C41   \n",
       "...                                                  ...         ...   \n",
       "20050  [[[-4, -2, -3, -5, -6, -3, -2, -4], [-1, -1, -...         A80   \n",
       "20051  [[[-4, -2, -3, -5, -6, -3, -2, -4], [-1, -1, -...         A41   \n",
       "20052  [[[-4, -2, -3, -5, -6, -3, -2, -4], [-1, -1, -...         D00   \n",
       "20053  [[[-4, -2, -3, -5, -6, -3, -2, -4], [-1, -1, -...         B07   \n",
       "20054  [[[-4, -2, -3, -5, -6, -3, -2, -4], [-1, -1, -...         D00   \n",
       "\n",
       "       opening_ply  \n",
       "0                5  \n",
       "1                4  \n",
       "2                3  \n",
       "3                3  \n",
       "4                5  \n",
       "...            ...  \n",
       "20050            2  \n",
       "20051            2  \n",
       "20052            3  \n",
       "20053            4  \n",
       "20054            3  \n",
       "\n",
       "[20055 rows x 3 columns]>"
      ]
     },
     "execution_count": 21,
     "metadata": {},
     "output_type": "execute_result"
    }
   ],
   "source": [
    "df.describe"
   ]
  },
  {
   "cell_type": "code",
   "execution_count": 22,
   "metadata": {},
   "outputs": [
    {
     "data": {
      "text/plain": [
       "opening_eco\n",
       "A00    1007\n",
       "C00     844\n",
       "D00     739\n",
       "B01     716\n",
       "C41     691\n",
       "       ... \n",
       "D58       1\n",
       "C32       1\n",
       "E18       1\n",
       "D95       1\n",
       "D19       1\n",
       "Name: count, Length: 364, dtype: int64"
      ]
     },
     "execution_count": 22,
     "metadata": {},
     "output_type": "execute_result"
    }
   ],
   "source": [
    "df[\"opening_eco\"].value_counts()"
   ]
  },
  {
   "cell_type": "code",
   "execution_count": null,
   "metadata": {},
   "outputs": [],
   "source": []
  }
 ],
 "metadata": {
  "kernelspec": {
   "display_name": "Python 3",
   "language": "python",
   "name": "python3"
  },
  "language_info": {
   "codemirror_mode": {
    "name": "ipython",
    "version": 3
   },
   "file_extension": ".py",
   "mimetype": "text/x-python",
   "name": "python",
   "nbconvert_exporter": "python",
   "pygments_lexer": "ipython3",
   "version": "3.12.7"
  }
 },
 "nbformat": 4,
 "nbformat_minor": 2
}
