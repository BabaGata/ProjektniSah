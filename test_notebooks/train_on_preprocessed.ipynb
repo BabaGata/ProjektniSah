{
 "cells": [
  {
   "cell_type": "code",
   "execution_count": 2,
   "metadata": {},
   "outputs": [],
   "source": [
    "import torch\n",
    "import torch.nn as nn\n",
    "import torch.optim as optim\n",
    "import pandas as pd\n",
    "import numpy as np\n",
    "import random\n",
    "from torch.utils.data import Dataset, DataLoader"
   ]
  },
  {
   "cell_type": "code",
   "execution_count": 3,
   "metadata": {},
   "outputs": [],
   "source": [
    "eco_mapping_df = pd.read_csv(\"../data/ECO_codes_mapping.csv\")\n",
    "eco_mapping = {eco: idx for idx, eco in enumerate(eco_mapping_df[\"eco\"].unique())}"
   ]
  },
  {
   "cell_type": "code",
   "execution_count": 4,
   "metadata": {},
   "outputs": [
    {
     "data": {
      "text/plain": [
       "496"
      ]
     },
     "execution_count": 4,
     "metadata": {},
     "output_type": "execute_result"
    }
   ],
   "source": [
    "len(eco_mapping.keys())"
   ]
  },
  {
   "cell_type": "code",
   "execution_count": 5,
   "metadata": {},
   "outputs": [],
   "source": [
    "# Load dataset\n",
    "df = pd.read_csv(r\"../data/preprocessed/lichess_games.csv\")\n",
    "# df[\"matrices\"] = df[\"matrices\"].apply(eval)  # Convert string to list"
   ]
  },
  {
   "cell_type": "code",
   "execution_count": 11,
   "metadata": {},
   "outputs": [
    {
     "data": {
      "text/plain": [
       "<bound method NDFrame.describe of                                                      pgn  \\\n",
       "1      [Event \"?\"]\\n[Site \"Lichess.org\"]\\n[Date \"?\"]\\...   \n",
       "2      [Event \"?\"]\\n[Site \"Lichess.org\"]\\n[Date \"?\"]\\...   \n",
       "3      [Event \"?\"]\\n[Site \"Lichess.org\"]\\n[Date \"?\"]\\...   \n",
       "4      [Event \"?\"]\\n[Site \"Lichess.org\"]\\n[Date \"?\"]\\...   \n",
       "6      [Event \"?\"]\\n[Site \"Lichess.org\"]\\n[Date \"?\"]\\...   \n",
       "...                                                  ...   \n",
       "20051  [Event \"?\"]\\n[Site \"Lichess.org\"]\\n[Date \"?\"]\\...   \n",
       "20052  [Event \"?\"]\\n[Site \"Lichess.org\"]\\n[Date \"?\"]\\...   \n",
       "20055  [Event \"?\"]\\n[Site \"Lichess.org\"]\\n[Date \"?\"]\\...   \n",
       "20056  [Event \"?\"]\\n[Site \"Lichess.org\"]\\n[Date \"?\"]\\...   \n",
       "20057  [Event \"?\"]\\n[Site \"Lichess.org\"]\\n[Date \"?\"]\\...   \n",
       "\n",
       "                                                matrices opening_eco  \\\n",
       "1      [[[-4, -2, -3, -5, -6, -3, -2, -4], [-1, -1, -...         B00   \n",
       "2      [[[-4, -2, -3, -5, -6, -3, -2, -4], [-1, -1, -...         C20   \n",
       "3      [[[-4, -2, -3, -5, -6, -3, -2, -4], [-1, -1, -...         D02   \n",
       "4      [[[-4, -2, -3, -5, -6, -3, -2, -4], [-1, -1, -...         C41   \n",
       "6      [[[-4, -2, -3, -5, -6, -3, -2, -4], [-1, -1, -...         D00   \n",
       "...                                                  ...         ...   \n",
       "20051  [[[-4, -2, -3, -5, -6, -3, -2, -4], [-1, -1, -...         C00   \n",
       "20052  [[[-4, -2, -3, -5, -6, -3, -2, -4], [-1, -1, -...         A40   \n",
       "20055  [[[-4, -2, -3, -5, -6, -3, -2, -4], [-1, -1, -...         D00   \n",
       "20056  [[[-4, -2, -3, -5, -6, -3, -2, -4], [-1, -1, -...         B07   \n",
       "20057  [[[-4, -2, -3, -5, -6, -3, -2, -4], [-1, -1, -...         D00   \n",
       "\n",
       "       opening_ply  \n",
       "1                4  \n",
       "2                3  \n",
       "3                3  \n",
       "4                5  \n",
       "6               10  \n",
       "...            ...  \n",
       "20051            3  \n",
       "20052            4  \n",
       "20055            3  \n",
       "20056            4  \n",
       "20057            3  \n",
       "\n",
       "[11470 rows x 4 columns]>"
      ]
     },
     "execution_count": 11,
     "metadata": {},
     "output_type": "execute_result"
    }
   ],
   "source": [
    "df.describe"
   ]
  },
  {
   "cell_type": "code",
   "execution_count": 12,
   "metadata": {},
   "outputs": [
    {
     "data": {
      "text/plain": [
       "opening_eco\n",
       "A00    1007\n",
       "C00     844\n",
       "D00     739\n",
       "B01     716\n",
       "C41     691\n",
       "C20     675\n",
       "A40     618\n",
       "B00     611\n",
       "B20     567\n",
       "C50     538\n",
       "C40     446\n",
       "D02     434\n",
       "C44     375\n",
       "C42     327\n",
       "C55     312\n",
       "B07     304\n",
       "A04     285\n",
       "C45     284\n",
       "C02     277\n",
       "C46     267\n",
       "A45     252\n",
       "B21     237\n",
       "B30     227\n",
       "B50     226\n",
       "D20     211\n",
       "Name: count, dtype: int64"
      ]
     },
     "execution_count": 12,
     "metadata": {},
     "output_type": "execute_result"
    }
   ],
   "source": [
    "df[\"opening_eco\"].value_counts()"
   ]
  },
  {
   "cell_type": "code",
   "execution_count": 10,
   "metadata": {},
   "outputs": [],
   "source": [
    "RARE_OPENINGS = 200\n",
    "eco_counts = df[\"opening_eco\"].value_counts()\n",
    "rare_classes = eco_counts[eco_counts < RARE_OPENINGS].index\n",
    "df = df[~df[\"opening_eco\"].isin(rare_classes)]"
   ]
  },
  {
   "cell_type": "code",
   "execution_count": 4,
   "metadata": {},
   "outputs": [
    {
     "data": {
      "text/plain": [
       "[[[-4, -2, -3, -5, -6, -3, -2, -4],\n",
       "  [-1, -1, -1, -1, -1, -1, -1, -1],\n",
       "  [0, 0, 0, 0, 0, 0, 0, 0],\n",
       "  [0, 0, 0, 0, 0, 0, 0, 0],\n",
       "  [0, 0, 0, 1, 0, 0, 0, 0],\n",
       "  [0, 0, 0, 0, 0, 0, 0, 0],\n",
       "  [1, 1, 1, 0, 1, 1, 1, 1],\n",
       "  [4, 2, 3, 5, 6, 3, 2, 4]],\n",
       " [[-4, -2, -3, -5, -6, -3, -2, -4],\n",
       "  [-1, -1, -1, 0, -1, -1, -1, -1],\n",
       "  [0, 0, 0, 0, 0, 0, 0, 0],\n",
       "  [0, 0, 0, -1, 0, 0, 0, 0],\n",
       "  [0, 0, 0, 1, 0, 0, 0, 0],\n",
       "  [0, 0, 0, 0, 0, 0, 0, 0],\n",
       "  [1, 1, 1, 0, 1, 1, 1, 1],\n",
       "  [4, 2, 3, 5, 6, 3, 2, 4]],\n",
       " [[-4, -2, -3, -5, -6, -3, -2, -4],\n",
       "  [-1, -1, -1, 0, -1, -1, -1, -1],\n",
       "  [0, 0, 0, 0, 0, 0, 0, 0],\n",
       "  [0, 0, 0, -1, 0, 0, 0, 0],\n",
       "  [0, 0, 1, 1, 0, 0, 0, 0],\n",
       "  [0, 0, 0, 0, 0, 0, 0, 0],\n",
       "  [1, 1, 0, 0, 1, 1, 1, 1],\n",
       "  [4, 2, 3, 5, 6, 3, 2, 4]],\n",
       " [[-4, -2, -3, -5, -6, -3, -2, -4],\n",
       "  [-1, -1, 0, 0, -1, -1, -1, -1],\n",
       "  [0, 0, -1, 0, 0, 0, 0, 0],\n",
       "  [0, 0, 0, -1, 0, 0, 0, 0],\n",
       "  [0, 0, 1, 1, 0, 0, 0, 0],\n",
       "  [0, 0, 0, 0, 0, 0, 0, 0],\n",
       "  [1, 1, 0, 0, 1, 1, 1, 1],\n",
       "  [4, 2, 3, 5, 6, 3, 2, 4]],\n",
       " [[-4, -2, -3, -5, -6, -3, -2, -4],\n",
       "  [-1, -1, 0, 0, -1, -1, -1, -1],\n",
       "  [0, 0, -1, 0, 0, 0, 0, 0],\n",
       "  [0, 0, 0, 1, 0, 0, 0, 0],\n",
       "  [0, 0, 0, 1, 0, 0, 0, 0],\n",
       "  [0, 0, 0, 0, 0, 0, 0, 0],\n",
       "  [1, 1, 0, 0, 1, 1, 1, 1],\n",
       "  [4, 2, 3, 5, 6, 3, 2, 4]],\n",
       " [[-4, -2, -3, -5, -6, -3, -2, -4],\n",
       "  [-1, -1, 0, 0, 0, -1, -1, -1],\n",
       "  [0, 0, -1, 0, -1, 0, 0, 0],\n",
       "  [0, 0, 0, 1, 0, 0, 0, 0],\n",
       "  [0, 0, 0, 1, 0, 0, 0, 0],\n",
       "  [0, 0, 0, 0, 0, 0, 0, 0],\n",
       "  [1, 1, 0, 0, 1, 1, 1, 1],\n",
       "  [4, 2, 3, 5, 6, 3, 2, 4]],\n",
       " [[-4, -2, -3, -5, -6, -3, -2, -4],\n",
       "  [-1, -1, 0, 0, 0, -1, -1, -1],\n",
       "  [0, 0, -1, 0, 1, 0, 0, 0],\n",
       "  [0, 0, 0, 0, 0, 0, 0, 0],\n",
       "  [0, 0, 0, 1, 0, 0, 0, 0],\n",
       "  [0, 0, 0, 0, 0, 0, 0, 0],\n",
       "  [1, 1, 0, 0, 1, 1, 1, 1],\n",
       "  [4, 2, 3, 5, 6, 3, 2, 4]],\n",
       " [[-4, -2, -3, -5, -6, -3, -2, -4],\n",
       "  [-1, -1, 0, 0, 0, 0, -1, -1],\n",
       "  [0, 0, -1, 0, -1, 0, 0, 0],\n",
       "  [0, 0, 0, 0, 0, 0, 0, 0],\n",
       "  [0, 0, 0, 1, 0, 0, 0, 0],\n",
       "  [0, 0, 0, 0, 0, 0, 0, 0],\n",
       "  [1, 1, 0, 0, 1, 1, 1, 1],\n",
       "  [4, 2, 3, 5, 6, 3, 2, 4]],\n",
       " [[-4, -2, -3, -5, -6, -3, -2, -4],\n",
       "  [-1, -1, 0, 0, 0, 0, -1, -1],\n",
       "  [0, 0, -1, 0, -1, 0, 0, 0],\n",
       "  [0, 0, 0, 0, 0, 0, 0, 0],\n",
       "  [0, 0, 0, 1, 0, 0, 0, 0],\n",
       "  [0, 0, 0, 0, 0, 2, 0, 0],\n",
       "  [1, 1, 0, 0, 1, 1, 1, 1],\n",
       "  [4, 2, 3, 5, 6, 3, 0, 4]],\n",
       " [[-4, -2, -3, -5, -6, 0, -2, -4],\n",
       "  [-1, -1, 0, 0, 0, 0, -1, -1],\n",
       "  [0, 0, -1, 0, -1, 0, 0, 0],\n",
       "  [0, 0, 0, 0, 0, 0, 0, 0],\n",
       "  [0, -3, 0, 1, 0, 0, 0, 0],\n",
       "  [0, 0, 0, 0, 0, 2, 0, 0],\n",
       "  [1, 1, 0, 0, 1, 1, 1, 1],\n",
       "  [4, 2, 3, 5, 6, 3, 0, 4]],\n",
       " [[-4, -2, -3, -5, -6, 0, -2, -4],\n",
       "  [-1, -1, 0, 0, 0, 0, -1, -1],\n",
       "  [0, 0, -1, 0, -1, 0, 0, 0],\n",
       "  [0, 0, 0, 0, 0, 0, 0, 0],\n",
       "  [0, -3, 0, 1, 0, 0, 0, 0],\n",
       "  [0, 0, 2, 0, 0, 2, 0, 0],\n",
       "  [1, 1, 0, 0, 1, 1, 1, 1],\n",
       "  [4, 0, 3, 5, 6, 3, 0, 4]],\n",
       " [[-4, -2, -3, -5, -6, 0, -2, -4],\n",
       "  [-1, -1, 0, 0, 0, 0, -1, -1],\n",
       "  [0, 0, -1, 0, -1, 0, 0, 0],\n",
       "  [-3, 0, 0, 0, 0, 0, 0, 0],\n",
       "  [0, 0, 0, 1, 0, 0, 0, 0],\n",
       "  [0, 0, 2, 0, 0, 2, 0, 0],\n",
       "  [1, 1, 0, 0, 1, 1, 1, 1],\n",
       "  [4, 0, 3, 5, 6, 3, 0, 4]],\n",
       " [[-4, -2, -3, -5, -6, 0, -2, -4],\n",
       "  [-1, -1, 0, 0, 0, 0, -1, -1],\n",
       "  [0, 0, -1, 0, -1, 0, 0, 0],\n",
       "  [-3, 0, 0, 0, 0, 0, 0, 0],\n",
       "  [0, 0, 0, 1, 0, 3, 0, 0],\n",
       "  [0, 0, 2, 0, 0, 2, 0, 0],\n",
       "  [1, 1, 0, 0, 1, 1, 1, 1],\n",
       "  [4, 0, 0, 5, 6, 3, 0, 4]]]"
      ]
     },
     "execution_count": 4,
     "metadata": {},
     "output_type": "execute_result"
    }
   ],
   "source": [
    "df[\"matrices\"][0]"
   ]
  },
  {
   "cell_type": "code",
   "execution_count": 6,
   "metadata": {},
   "outputs": [],
   "source": [
    "# Encode ECO labels\n",
    "eco_labels = sorted(df[\"opening_eco\"].unique())\n",
    "eco_to_idx = {eco: idx for idx, eco in enumerate(eco_labels)}\n",
    "idx_to_eco = {idx: eco for eco, idx in eco_to_idx.items()}"
   ]
  },
  {
   "cell_type": "code",
   "execution_count": null,
   "metadata": {},
   "outputs": [],
   "source": [
    "# Dataset class\n",
    "class ChessOpeningDataset(Dataset):\n",
    "    def __init__(self, df):\n",
    "        self.data = df\n",
    "    \n",
    "    def __len__(self):\n",
    "        return len(self.data)\n",
    "    \n",
    "    def __getitem__(self, idx):\n",
    "        row = self.data.iloc[idx]\n",
    "        matrices = row[\"matrices\"]\n",
    "        opening_ply = row[\"opening_ply\"]\n",
    "        eco = row[\"opening_eco\"]\n",
    "        \n",
    "        # Remove the first 2 * opening_ply + random number of moves\n",
    "        num_remove = 2 * opening_ply + random.randint(0, 5)\n",
    "        matrices = matrices[num_remove:] if len(matrices) > num_remove else matrices\n",
    "        \n",
    "        # Convert to tensor (pad if necessary)\n",
    "        matrices = [torch.tensor(m, dtype=torch.float32) for m in matrices]\n",
    "        if len(matrices) == 0:\n",
    "            matrices = [torch.zeros((8, 8), dtype=torch.float32)]  # Ensure at least one matrix\n",
    "        \n",
    "        matrices = torch.stack(matrices)  # Shape: (T, 8, 8)\n",
    "        label = torch.tensor(eco_to_idx[eco], dtype=torch.long)\n",
    "        \n",
    "        return matrices, label"
   ]
  },
  {
   "cell_type": "code",
   "execution_count": null,
   "metadata": {},
   "outputs": [],
   "source": [
    "# Define CNN model\n",
    "class ChessOpeningClassifier(nn.Module):\n",
    "    def __init__(self, num_classes):\n",
    "        super(ChessOpeningClassifier, self).__init__()\n",
    "        self.conv1 = nn.Conv2d(1, 32, kernel_size=3, padding=1)\n",
    "        self.conv2 = nn.Conv2d(32, 64, kernel_size=3, padding=1)\n",
    "        self.fc1 = nn.Linear(64 * 8 * 8, 128)\n",
    "        self.fc2 = nn.Linear(128, num_classes)\n",
    "        self.relu = nn.ReLU()\n",
    "        self.pool = nn.MaxPool2d(2, 2)\n",
    "        \n",
    "    def forward(self, x):\n",
    "        x = self.relu(self.conv1(x))  # (B, 32, 8, 8)\n",
    "        x = self.pool(self.relu(self.conv2(x)))  # (B, 64, 4, 4)\n",
    "        x = x.view(x.shape[0], -1)  # Flatten\n",
    "        x = self.relu(self.fc1(x))\n",
    "        x = self.fc2(x)\n",
    "        return x"
   ]
  },
  {
   "cell_type": "code",
   "execution_count": null,
   "metadata": {},
   "outputs": [],
   "source": [
    "# Training setup\n",
    "device = torch.device(\"cuda\" if torch.cuda.is_available() else \"cpu\")\n",
    "dataset = ChessOpeningDataset(df)\n",
    "dataloader = DataLoader(dataset, batch_size=32, shuffle=True)\n",
    "model = ChessOpeningClassifier(len(eco_labels)).to(device)\n",
    "\n",
    "criterion = nn.CrossEntropyLoss()\n",
    "optimizer = optim.Adam(model.parameters(), lr=0.001)\n",
    "\n",
    "# Training loop\n",
    "num_epochs = 10\n",
    "for epoch in range(num_epochs):\n",
    "    model.train()\n",
    "    total_loss = 0\n",
    "    for matrices, labels in dataloader:\n",
    "        matrices, labels = matrices.to(device), labels.to(device)\n",
    "        matrices = matrices.unsqueeze(1)  # Add channel dim (B, 1, 8, 8)\n",
    "        \n",
    "        optimizer.zero_grad()\n",
    "        outputs = model(matrices)\n",
    "        loss = criterion(outputs, labels)\n",
    "        loss.backward()\n",
    "        optimizer.step()\n",
    "        total_loss += loss.item()\n",
    "    \n",
    "    print(f\"Epoch {epoch+1}/{num_epochs}, Loss: {total_loss / len(dataloader):.4f}\")"
   ]
  },
  {
   "cell_type": "code",
   "execution_count": null,
   "metadata": {},
   "outputs": [],
   "source": [
    "# Save model\n",
    "torch.save(model.state_dict(), r\"/models/chess_opening_model.pth\")"
   ]
  }
 ],
 "metadata": {
  "kernelspec": {
   "display_name": "Python 3",
   "language": "python",
   "name": "python3"
  },
  "language_info": {
   "codemirror_mode": {
    "name": "ipython",
    "version": 3
   },
   "file_extension": ".py",
   "mimetype": "text/x-python",
   "name": "python",
   "nbconvert_exporter": "python",
   "pygments_lexer": "ipython3",
   "version": "3.12.7"
  }
 },
 "nbformat": 4,
 "nbformat_minor": 2
}
